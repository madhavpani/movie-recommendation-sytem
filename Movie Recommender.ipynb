{
 "cells": [
  {
   "cell_type": "markdown",
   "id": "e3e89aaa-b0f0-42f2-92f5-a97fa97a6333",
   "metadata": {},
   "source": [
    "# Movie Recommender"
   ]
  },
  {
   "cell_type": "markdown",
   "id": "97a275c3-a49a-4ed1-b59d-b16e09bf25e5",
   "metadata": {},
   "source": [
    "#### Import Libraries"
   ]
  },
  {
   "cell_type": "code",
   "execution_count": 1,
   "id": "25dabec8-bd0c-4863-997d-e378ca0f3bfc",
   "metadata": {},
   "outputs": [],
   "source": [
    "import numpy as np\n",
    "import pandas as pd\n",
    "import matplotlib.pyplot as plt\n",
    "import seaborn as sns"
   ]
  },
  {
   "cell_type": "markdown",
   "id": "4843284b-b251-4034-b367-a1fa85fa98c5",
   "metadata": {},
   "source": [
    "#### Import Dataset"
   ]
  },
  {
   "cell_type": "code",
   "execution_count": 2,
   "id": "117138c0-11a7-45f2-8cff-31a508fdcab1",
   "metadata": {},
   "outputs": [
    {
     "data": {
      "text/html": [
       "<div>\n",
       "<style scoped>\n",
       "    .dataframe tbody tr th:only-of-type {\n",
       "        vertical-align: middle;\n",
       "    }\n",
       "\n",
       "    .dataframe tbody tr th {\n",
       "        vertical-align: top;\n",
       "    }\n",
       "\n",
       "    .dataframe thead th {\n",
       "        text-align: right;\n",
       "    }\n",
       "</style>\n",
       "<table border=\"1\" class=\"dataframe\">\n",
       "  <thead>\n",
       "    <tr style=\"text-align: right;\">\n",
       "      <th></th>\n",
       "      <th>budget</th>\n",
       "      <th>genres</th>\n",
       "      <th>homepage</th>\n",
       "      <th>id</th>\n",
       "      <th>keywords</th>\n",
       "      <th>original_language</th>\n",
       "      <th>original_title</th>\n",
       "      <th>overview</th>\n",
       "      <th>popularity</th>\n",
       "      <th>production_companies</th>\n",
       "      <th>...</th>\n",
       "      <th>spoken_languages</th>\n",
       "      <th>status</th>\n",
       "      <th>tagline</th>\n",
       "      <th>title</th>\n",
       "      <th>vote_average</th>\n",
       "      <th>vote_count</th>\n",
       "      <th>movie_id</th>\n",
       "      <th>title</th>\n",
       "      <th>cast</th>\n",
       "      <th>crew</th>\n",
       "    </tr>\n",
       "  </thead>\n",
       "  <tbody>\n",
       "    <tr>\n",
       "      <th>0</th>\n",
       "      <td>237000000</td>\n",
       "      <td>[{\"id\": 28, \"name\": \"Action\"}, {\"id\": 12, \"nam...</td>\n",
       "      <td>http://www.avatarmovie.com/</td>\n",
       "      <td>19995</td>\n",
       "      <td>[{\"id\": 1463, \"name\": \"culture clash\"}, {\"id\":...</td>\n",
       "      <td>en</td>\n",
       "      <td>Avatar</td>\n",
       "      <td>In the 22nd century, a paraplegic Marine is di...</td>\n",
       "      <td>150.437577</td>\n",
       "      <td>[{\"name\": \"Ingenious Film Partners\", \"id\": 289...</td>\n",
       "      <td>...</td>\n",
       "      <td>[{\"iso_639_1\": \"en\", \"name\": \"English\"}, {\"iso...</td>\n",
       "      <td>Released</td>\n",
       "      <td>Enter the World of Pandora.</td>\n",
       "      <td>Avatar</td>\n",
       "      <td>7.2</td>\n",
       "      <td>11800</td>\n",
       "      <td>19995</td>\n",
       "      <td>Avatar</td>\n",
       "      <td>[{\"cast_id\": 242, \"character\": \"Jake Sully\", \"...</td>\n",
       "      <td>[{\"credit_id\": \"52fe48009251416c750aca23\", \"de...</td>\n",
       "    </tr>\n",
       "    <tr>\n",
       "      <th>1</th>\n",
       "      <td>300000000</td>\n",
       "      <td>[{\"id\": 12, \"name\": \"Adventure\"}, {\"id\": 14, \"...</td>\n",
       "      <td>http://disney.go.com/disneypictures/pirates/</td>\n",
       "      <td>285</td>\n",
       "      <td>[{\"id\": 270, \"name\": \"ocean\"}, {\"id\": 726, \"na...</td>\n",
       "      <td>en</td>\n",
       "      <td>Pirates of the Caribbean: At World's End</td>\n",
       "      <td>Captain Barbossa, long believed to be dead, ha...</td>\n",
       "      <td>139.082615</td>\n",
       "      <td>[{\"name\": \"Walt Disney Pictures\", \"id\": 2}, {\"...</td>\n",
       "      <td>...</td>\n",
       "      <td>[{\"iso_639_1\": \"en\", \"name\": \"English\"}]</td>\n",
       "      <td>Released</td>\n",
       "      <td>At the end of the world, the adventure begins.</td>\n",
       "      <td>Pirates of the Caribbean: At World's End</td>\n",
       "      <td>6.9</td>\n",
       "      <td>4500</td>\n",
       "      <td>285</td>\n",
       "      <td>Pirates of the Caribbean: At World's End</td>\n",
       "      <td>[{\"cast_id\": 4, \"character\": \"Captain Jack Spa...</td>\n",
       "      <td>[{\"credit_id\": \"52fe4232c3a36847f800b579\", \"de...</td>\n",
       "    </tr>\n",
       "  </tbody>\n",
       "</table>\n",
       "<p>2 rows × 24 columns</p>\n",
       "</div>"
      ],
      "text/plain": [
       "      budget                                             genres  \\\n",
       "0  237000000  [{\"id\": 28, \"name\": \"Action\"}, {\"id\": 12, \"nam...   \n",
       "1  300000000  [{\"id\": 12, \"name\": \"Adventure\"}, {\"id\": 14, \"...   \n",
       "\n",
       "                                       homepage     id  \\\n",
       "0                   http://www.avatarmovie.com/  19995   \n",
       "1  http://disney.go.com/disneypictures/pirates/    285   \n",
       "\n",
       "                                            keywords original_language  \\\n",
       "0  [{\"id\": 1463, \"name\": \"culture clash\"}, {\"id\":...                en   \n",
       "1  [{\"id\": 270, \"name\": \"ocean\"}, {\"id\": 726, \"na...                en   \n",
       "\n",
       "                             original_title  \\\n",
       "0                                    Avatar   \n",
       "1  Pirates of the Caribbean: At World's End   \n",
       "\n",
       "                                            overview  popularity  \\\n",
       "0  In the 22nd century, a paraplegic Marine is di...  150.437577   \n",
       "1  Captain Barbossa, long believed to be dead, ha...  139.082615   \n",
       "\n",
       "                                production_companies  ...  \\\n",
       "0  [{\"name\": \"Ingenious Film Partners\", \"id\": 289...  ...   \n",
       "1  [{\"name\": \"Walt Disney Pictures\", \"id\": 2}, {\"...  ...   \n",
       "\n",
       "                                    spoken_languages    status  \\\n",
       "0  [{\"iso_639_1\": \"en\", \"name\": \"English\"}, {\"iso...  Released   \n",
       "1           [{\"iso_639_1\": \"en\", \"name\": \"English\"}]  Released   \n",
       "\n",
       "                                          tagline  \\\n",
       "0                     Enter the World of Pandora.   \n",
       "1  At the end of the world, the adventure begins.   \n",
       "\n",
       "                                      title vote_average vote_count movie_id  \\\n",
       "0                                    Avatar          7.2      11800    19995   \n",
       "1  Pirates of the Caribbean: At World's End          6.9       4500      285   \n",
       "\n",
       "                                      title  \\\n",
       "0                                    Avatar   \n",
       "1  Pirates of the Caribbean: At World's End   \n",
       "\n",
       "                                                cast  \\\n",
       "0  [{\"cast_id\": 242, \"character\": \"Jake Sully\", \"...   \n",
       "1  [{\"cast_id\": 4, \"character\": \"Captain Jack Spa...   \n",
       "\n",
       "                                                crew  \n",
       "0  [{\"credit_id\": \"52fe48009251416c750aca23\", \"de...  \n",
       "1  [{\"credit_id\": \"52fe4232c3a36847f800b579\", \"de...  \n",
       "\n",
       "[2 rows x 24 columns]"
      ]
     },
     "execution_count": 2,
     "metadata": {},
     "output_type": "execute_result"
    }
   ],
   "source": [
    "# lets read the dataset\n",
    "movies = pd.read_csv('tmdb_5000_movies.csv')\n",
    "credits = pd.read_csv('tmdb_5000_credits.csv')\n",
    "\n",
    "movies_df = pd.concat([movies, credits], axis= 1)\n",
    "movies_df.head(2)"
   ]
  },
  {
   "cell_type": "markdown",
   "id": "d1999395-6040-412a-9c31-7823bf33b422",
   "metadata": {},
   "source": [
    "## Data Cleaning"
   ]
  },
  {
   "cell_type": "markdown",
   "id": "93676b9b-1550-4df5-b7e6-2dcca3d10638",
   "metadata": {},
   "source": [
    "#### 1. Duplicates Removal"
   ]
  },
  {
   "cell_type": "code",
   "execution_count": 3,
   "id": "7d7f5946-7ce6-4bae-81e7-0a1dbed8310d",
   "metadata": {},
   "outputs": [
    {
     "data": {
      "text/plain": [
       "0"
      ]
     },
     "execution_count": 3,
     "metadata": {},
     "output_type": "execute_result"
    }
   ],
   "source": [
    "movies_df.duplicated().sum()"
   ]
  },
  {
   "cell_type": "markdown",
   "id": "e7aef9c3-45ff-431c-ad15-2c0f7f15beb6",
   "metadata": {},
   "source": [
    "#### 2. Drop Unwanted Columns"
   ]
  },
  {
   "cell_type": "code",
   "execution_count": 4,
   "id": "a3c7405f-442e-4fb7-9cac-26a0a07384c1",
   "metadata": {},
   "outputs": [],
   "source": [
    "# lets filter out the only the required columns from the movies dataset\n",
    "movies_df = movies_df[['genres', 'keywords', 'overview', 'original_title', 'cast', 'crew']]"
   ]
  },
  {
   "cell_type": "code",
   "execution_count": 5,
   "id": "27d6053e-3c15-4e42-a157-1f8f96e2a1d6",
   "metadata": {},
   "outputs": [
    {
     "name": "stdout",
     "output_type": "stream",
     "text": [
      "<class 'pandas.core.frame.DataFrame'>\n",
      "RangeIndex: 4803 entries, 0 to 4802\n",
      "Data columns (total 6 columns):\n",
      " #   Column          Non-Null Count  Dtype \n",
      "---  ------          --------------  ----- \n",
      " 0   genres          4803 non-null   object\n",
      " 1   keywords        4803 non-null   object\n",
      " 2   overview        4800 non-null   object\n",
      " 3   original_title  4803 non-null   object\n",
      " 4   cast            4803 non-null   object\n",
      " 5   crew            4803 non-null   object\n",
      "dtypes: object(6)\n",
      "memory usage: 225.3+ KB\n"
     ]
    }
   ],
   "source": [
    "# lets check the columns \n",
    "movies_df.info()"
   ]
  },
  {
   "cell_type": "markdown",
   "id": "b558a167-2ab9-4efd-8e8a-8492bc022a32",
   "metadata": {},
   "source": [
    "#### 3. Drop Null values"
   ]
  },
  {
   "cell_type": "code",
   "execution_count": 6,
   "id": "51cefaa7-6721-4790-b575-d0a2ef1a76cd",
   "metadata": {},
   "outputs": [],
   "source": [
    "movies_df.dropna(inplace=True)"
   ]
  },
  {
   "cell_type": "code",
   "execution_count": 7,
   "id": "d5932aac-6e24-4c91-bd28-a754999d08e3",
   "metadata": {},
   "outputs": [
    {
     "data": {
      "text/plain": [
       "genres            0\n",
       "keywords          0\n",
       "overview          0\n",
       "original_title    0\n",
       "cast              0\n",
       "crew              0\n",
       "dtype: int64"
      ]
     },
     "execution_count": 7,
     "metadata": {},
     "output_type": "execute_result"
    }
   ],
   "source": [
    "movies_df.isna().sum()"
   ]
  },
  {
   "cell_type": "code",
   "execution_count": 8,
   "id": "ba6e12ac-b625-4ea4-84ce-5d17efcfb1f1",
   "metadata": {},
   "outputs": [
    {
     "data": {
      "text/html": [
       "<div>\n",
       "<style scoped>\n",
       "    .dataframe tbody tr th:only-of-type {\n",
       "        vertical-align: middle;\n",
       "    }\n",
       "\n",
       "    .dataframe tbody tr th {\n",
       "        vertical-align: top;\n",
       "    }\n",
       "\n",
       "    .dataframe thead th {\n",
       "        text-align: right;\n",
       "    }\n",
       "</style>\n",
       "<table border=\"1\" class=\"dataframe\">\n",
       "  <thead>\n",
       "    <tr style=\"text-align: right;\">\n",
       "      <th></th>\n",
       "      <th>genres</th>\n",
       "      <th>keywords</th>\n",
       "      <th>overview</th>\n",
       "      <th>original_title</th>\n",
       "      <th>cast</th>\n",
       "      <th>crew</th>\n",
       "    </tr>\n",
       "  </thead>\n",
       "  <tbody>\n",
       "    <tr>\n",
       "      <th>0</th>\n",
       "      <td>[{\"id\": 28, \"name\": \"Action\"}, {\"id\": 12, \"nam...</td>\n",
       "      <td>[{\"id\": 1463, \"name\": \"culture clash\"}, {\"id\":...</td>\n",
       "      <td>In the 22nd century, a paraplegic Marine is di...</td>\n",
       "      <td>Avatar</td>\n",
       "      <td>[{\"cast_id\": 242, \"character\": \"Jake Sully\", \"...</td>\n",
       "      <td>[{\"credit_id\": \"52fe48009251416c750aca23\", \"de...</td>\n",
       "    </tr>\n",
       "    <tr>\n",
       "      <th>1</th>\n",
       "      <td>[{\"id\": 12, \"name\": \"Adventure\"}, {\"id\": 14, \"...</td>\n",
       "      <td>[{\"id\": 270, \"name\": \"ocean\"}, {\"id\": 726, \"na...</td>\n",
       "      <td>Captain Barbossa, long believed to be dead, ha...</td>\n",
       "      <td>Pirates of the Caribbean: At World's End</td>\n",
       "      <td>[{\"cast_id\": 4, \"character\": \"Captain Jack Spa...</td>\n",
       "      <td>[{\"credit_id\": \"52fe4232c3a36847f800b579\", \"de...</td>\n",
       "    </tr>\n",
       "  </tbody>\n",
       "</table>\n",
       "</div>"
      ],
      "text/plain": [
       "                                              genres  \\\n",
       "0  [{\"id\": 28, \"name\": \"Action\"}, {\"id\": 12, \"nam...   \n",
       "1  [{\"id\": 12, \"name\": \"Adventure\"}, {\"id\": 14, \"...   \n",
       "\n",
       "                                            keywords  \\\n",
       "0  [{\"id\": 1463, \"name\": \"culture clash\"}, {\"id\":...   \n",
       "1  [{\"id\": 270, \"name\": \"ocean\"}, {\"id\": 726, \"na...   \n",
       "\n",
       "                                            overview  \\\n",
       "0  In the 22nd century, a paraplegic Marine is di...   \n",
       "1  Captain Barbossa, long believed to be dead, ha...   \n",
       "\n",
       "                             original_title  \\\n",
       "0                                    Avatar   \n",
       "1  Pirates of the Caribbean: At World's End   \n",
       "\n",
       "                                                cast  \\\n",
       "0  [{\"cast_id\": 242, \"character\": \"Jake Sully\", \"...   \n",
       "1  [{\"cast_id\": 4, \"character\": \"Captain Jack Spa...   \n",
       "\n",
       "                                                crew  \n",
       "0  [{\"credit_id\": \"52fe48009251416c750aca23\", \"de...  \n",
       "1  [{\"credit_id\": \"52fe4232c3a36847f800b579\", \"de...  "
      ]
     },
     "execution_count": 8,
     "metadata": {},
     "output_type": "execute_result"
    }
   ],
   "source": [
    "movies_df.head(2)"
   ]
  },
  {
   "cell_type": "markdown",
   "id": "9edac71a-d114-4fb0-87e1-affd642b62d5",
   "metadata": {},
   "source": [
    "#### Extract Genres"
   ]
  },
  {
   "cell_type": "code",
   "execution_count": 19,
   "id": "6c113987-bf6d-49e6-ace8-838b6a411386",
   "metadata": {},
   "outputs": [
    {
     "data": {
      "text/plain": [
       "'[{\"id\": 28, \"name\": \"Action\"}, {\"id\": 12, \"name\": \"Adventure\"}, {\"id\": 14, \"name\": \"Fantasy\"}, {\"id\": 878, \"name\": \"Science Fiction\"}]'"
      ]
     },
     "execution_count": 19,
     "metadata": {},
     "output_type": "execute_result"
    }
   ],
   "source": [
    "# lets see the genres first sample\n",
    "movies_df['genres'][0]"
   ]
  },
  {
   "cell_type": "code",
   "execution_count": 28,
   "id": "09d64723-0f14-4ea1-8d4e-598fe7723075",
   "metadata": {},
   "outputs": [],
   "source": [
    "# the genres are string, therefor we need to convert it to list before collecting the names\n",
    "# ast.literal_eval(obj) : This method converts the string to list\n",
    "import ast\n",
    "\n",
    "movies_df['genres']=movies_df['genres'].apply(lambda x: [i['name'] for i in ast.literal_eval(x)])"
   ]
  },
  {
   "cell_type": "markdown",
   "id": "143787e8-64cb-4339-9af5-b55aa614117d",
   "metadata": {},
   "source": [
    "#### Extract Keywords"
   ]
  },
  {
   "cell_type": "code",
   "execution_count": 29,
   "id": "e0043246-181a-41e3-9936-1115be9e5b8c",
   "metadata": {},
   "outputs": [
    {
     "data": {
      "text/plain": [
       "'[{\"id\": 1463, \"name\": \"culture clash\"}, {\"id\": 2964, \"name\": \"future\"}, {\"id\": 3386, \"name\": \"space war\"}, {\"id\": 3388, \"name\": \"space colony\"}, {\"id\": 3679, \"name\": \"society\"}, {\"id\": 3801, \"name\": \"space travel\"}, {\"id\": 9685, \"name\": \"futuristic\"}, {\"id\": 9840, \"name\": \"romance\"}, {\"id\": 9882, \"name\": \"space\"}, {\"id\": 9951, \"name\": \"alien\"}, {\"id\": 10148, \"name\": \"tribe\"}, {\"id\": 10158, \"name\": \"alien planet\"}, {\"id\": 10987, \"name\": \"cgi\"}, {\"id\": 11399, \"name\": \"marine\"}, {\"id\": 13065, \"name\": \"soldier\"}, {\"id\": 14643, \"name\": \"battle\"}, {\"id\": 14720, \"name\": \"love affair\"}, {\"id\": 165431, \"name\": \"anti war\"}, {\"id\": 193554, \"name\": \"power relations\"}, {\"id\": 206690, \"name\": \"mind and soul\"}, {\"id\": 209714, \"name\": \"3d\"}]'"
      ]
     },
     "execution_count": 29,
     "metadata": {},
     "output_type": "execute_result"
    }
   ],
   "source": [
    "# lets see the keywords first sample\n",
    "movies_df['keywords'][0]"
   ]
  },
  {
   "cell_type": "code",
   "execution_count": 30,
   "id": "5fd3ec14-aa99-4bfd-b129-452d0e49a058",
   "metadata": {},
   "outputs": [],
   "source": [
    "movies_df['keywords'] = movies_df['keywords'].apply(lambda x: [i['name'] for i in ast.literal_eval(x)])"
   ]
  },
  {
   "cell_type": "markdown",
   "id": "4af6ef44-cd0f-4d8b-9a49-ac5bc3a41820",
   "metadata": {},
   "source": [
    "#### Extract Overview"
   ]
  },
  {
   "cell_type": "code",
   "execution_count": 31,
   "id": "a482a150-b551-4146-91f4-b0e645bc0a45",
   "metadata": {},
   "outputs": [
    {
     "data": {
      "text/plain": [
       "'In the 22nd century, a paraplegic Marine is dispatched to the moon Pandora on a unique mission, but becomes torn between following orders and protecting an alien civilization.'"
      ]
     },
     "execution_count": 31,
     "metadata": {},
     "output_type": "execute_result"
    }
   ],
   "source": [
    "# lets see the overview first sample\n",
    "movies_df['overview'][0]"
   ]
  },
  {
   "cell_type": "code",
   "execution_count": 43,
   "id": "a5e66c5b-72a7-4395-ac61-f76507e9e7c8",
   "metadata": {},
   "outputs": [],
   "source": [
    "# as this have punctuations, lets remove it\n",
    "import string\n",
    "\n",
    "movies_df['overview']=movies_df['overview'].apply(lambda x: ''.join([i for i in x if i not in string.punctuation]).split())"
   ]
  },
  {
   "cell_type": "markdown",
   "id": "d3ab48d4-58c2-49a6-a103-99bf90d4b844",
   "metadata": {},
   "source": [
    "#### Extract Cast"
   ]
  },
  {
   "cell_type": "code",
   "execution_count": 46,
   "id": "26c215fa-316c-483e-9811-4962714ace51",
   "metadata": {},
   "outputs": [
    {
     "data": {
      "text/plain": [
       "12919"
      ]
     },
     "execution_count": 46,
     "metadata": {},
     "output_type": "execute_result"
    }
   ],
   "source": [
    "# lets check the length of the first value in cast column\n",
    "len(movies_df['cast'][0])"
   ]
  },
  {
   "cell_type": "code",
   "execution_count": 51,
   "id": "1e6a8653-83d1-4693-8177-983c6cfd3b11",
   "metadata": {},
   "outputs": [],
   "source": [
    "# lets extract only first 5 values\n",
    "movies_df['cast']=movies_df['cast'].apply(lambda x: [i['name'] for i in ast.literal_eval(x)[:5]])"
   ]
  },
  {
   "cell_type": "markdown",
   "id": "54319401-7114-453d-8210-4731b3ffcff7",
   "metadata": {},
   "source": [
    "#### Extract Crew"
   ]
  },
  {
   "cell_type": "code",
   "execution_count": 53,
   "id": "7751e51f-6325-4058-a186-7929e94c7650",
   "metadata": {},
   "outputs": [
    {
     "data": {
      "text/plain": [
       "22831"
      ]
     },
     "execution_count": 53,
     "metadata": {},
     "output_type": "execute_result"
    }
   ],
   "source": [
    "# lets check the length of the first value in crew column\n",
    "len(movies_df['crew'][0])"
   ]
  },
  {
   "cell_type": "code",
   "execution_count": 59,
   "id": "6f065215-ca9f-4427-b3ef-7f5102f1d85a",
   "metadata": {},
   "outputs": [],
   "source": [
    "# lets extract only the director value\n",
    "movies_df['crew']=movies_df['crew'].apply(lambda x: [i['name'] for i in ast.literal_eval(x) if i['job'] == 'Director'])"
   ]
  },
  {
   "cell_type": "markdown",
   "id": "7347313b-8ec7-4055-9315-5df47a499f04",
   "metadata": {},
   "source": [
    "#### Create Tags Column"
   ]
  },
  {
   "cell_type": "code",
   "execution_count": 61,
   "id": "364da127-9142-43e3-9513-c7d3b765c5d9",
   "metadata": {},
   "outputs": [],
   "source": [
    "# lets add a new column which contains the tags for a movie in tags column of the dataframe\n",
    "movies_df['tags'] = movies_df['genres'] + movies_df['keywords'] + movies_df['overview'] + movies_df['cast'] + movies_df['crew']"
   ]
  },
  {
   "cell_type": "code",
   "execution_count": 66,
   "id": "dd7d0171-41b7-4ad9-9afc-b3bc5e7d2e43",
   "metadata": {},
   "outputs": [],
   "source": [
    "# lets do the following steps in tags column\n",
    "# stopwords removal --> stemming\n",
    "from nltk.corpus import stopwords\n",
    "from nltk.stem import PorterStemmer\n",
    "ps = PorterStemmer()\n",
    "sw = stopwords.words('english')\n",
    "\n",
    "movies_df['tags']=movies_df['tags'].apply(lambda x: ' '.join([ps.stem(i.lower()) for i in x if i not in sw]))"
   ]
  },
  {
   "cell_type": "markdown",
   "id": "614e59a0-c0c8-47ce-8c72-7399d065e7d8",
   "metadata": {},
   "source": [
    "## Data Preprocessing"
   ]
  },
  {
   "cell_type": "markdown",
   "id": "c44854dd-c608-439f-9dfd-08670574d678",
   "metadata": {},
   "source": [
    "#### Bag Of Words"
   ]
  },
  {
   "cell_type": "code",
   "execution_count": 118,
   "id": "fd889970-a221-4dd2-8a29-5746f96b3e1b",
   "metadata": {},
   "outputs": [],
   "source": [
    "# lets vectorize the tags column using bag of words\n",
    "from sklearn.feature_extraction.text import CountVectorizer\n",
    "cv = CountVectorizer()\n",
    "vectors = cv.fit_transform(movies_df['tags'])"
   ]
  },
  {
   "cell_type": "code",
   "execution_count": 119,
   "id": "613f27a6-a158-4a36-b7c3-8be1b5f06f1d",
   "metadata": {},
   "outputs": [
    {
     "data": {
      "text/plain": [
       "<4800x27845 sparse matrix of type '<class 'numpy.int64'>'\n",
       "\twith 249918 stored elements in Compressed Sparse Row format>"
      ]
     },
     "execution_count": 119,
     "metadata": {},
     "output_type": "execute_result"
    }
   ],
   "source": [
    "vectors"
   ]
  },
  {
   "cell_type": "markdown",
   "id": "2c2f8090-0a5e-4bf8-8e4d-7c0e34610d92",
   "metadata": {},
   "source": [
    "## Cosine Similarity Model"
   ]
  },
  {
   "cell_type": "code",
   "execution_count": 120,
   "id": "3c0daf2c-fcb5-4226-9637-dad218d7aa65",
   "metadata": {},
   "outputs": [],
   "source": [
    "# lets find out the cosine similarity between the vectorized tags of each movies\n",
    "from sklearn.metrics.pairwise import cosine_similarity\n",
    "similarity = cosine_similarity(vectors)"
   ]
  },
  {
   "cell_type": "markdown",
   "id": "dacc99f5-678c-40d9-806c-3932b4c630b4",
   "metadata": {},
   "source": [
    "## Movie Recommender"
   ]
  },
  {
   "cell_type": "code",
   "execution_count": 121,
   "id": "19522a17-73f5-4d6e-88aa-ac2644674987",
   "metadata": {},
   "outputs": [],
   "source": [
    "# lets build a method which recommends 5 movies based on the similarity\n",
    "def Recommender(movie):\n",
    "    index = movies_df[movies_df['original_title'] == movie].index[0]\n",
    "    movies_recommended = sorted(list(enumerate(similarity[index])), reverse = True, key = lambda x: x[1])[1:6]\n",
    "    for i, j in movies_recommended:\n",
    "        print(movies_df.loc[i]['original_title'])"
   ]
  },
  {
   "cell_type": "markdown",
   "id": "bee0eece-d929-4144-9d84-980d3acc0691",
   "metadata": {},
   "source": [
    "#### Recommend 5 movies for 'The Avengers'"
   ]
  },
  {
   "cell_type": "code",
   "execution_count": 122,
   "id": "d4fd5a3d-cd60-4b00-871e-c49c84a83956",
   "metadata": {},
   "outputs": [
    {
     "name": "stdout",
     "output_type": "stream",
     "text": [
      "Avengers: Age of Ultron\n",
      "Iron Man 2\n",
      "Captain America: Civil War\n",
      "Captain America: The Winter Soldier\n",
      "Iron Man 3\n"
     ]
    }
   ],
   "source": [
    "Recommender('The Avengers')"
   ]
  },
  {
   "cell_type": "markdown",
   "id": "256f7ba0-b6e7-4a98-8ee2-ff54fa23031f",
   "metadata": {},
   "source": [
    "#### Recommend 5 movies for 'King Kong'"
   ]
  },
  {
   "cell_type": "code",
   "execution_count": 123,
   "id": "e48bacb5-f5bb-45d9-8150-12029d809a1c",
   "metadata": {},
   "outputs": [
    {
     "name": "stdout",
     "output_type": "stream",
     "text": [
      "Ed Wood\n",
      "Top Hat\n",
      "America's Sweethearts\n",
      "All That Jazz\n",
      "Meek's Cutoff\n"
     ]
    }
   ],
   "source": [
    "# lets recommend 5 movies for the movie King Kong\n",
    "recommender('King Kong')"
   ]
  },
  {
   "cell_type": "markdown",
   "id": "1824e74e-8833-4a45-946c-54ad7fcf3ccd",
   "metadata": {},
   "source": [
    "#### Recommend 5 movies for 'Titanic'"
   ]
  },
  {
   "cell_type": "code",
   "execution_count": 124,
   "id": "3de945ab-4870-432a-86c6-7cdf9b7ac138",
   "metadata": {},
   "outputs": [
    {
     "name": "stdout",
     "output_type": "stream",
     "text": [
      "The Notebook\n",
      "Captain Phillips\n",
      "Poseidon\n",
      "Ghost Ship\n",
      "The Maid's Room\n"
     ]
    }
   ],
   "source": [
    "# lets recommend 5 movies for the movie Titanic\n",
    "recommender('Titanic')"
   ]
  },
  {
   "cell_type": "markdown",
   "id": "03bb5331-d2d3-40e7-b21a-23a43a2975a1",
   "metadata": {},
   "source": [
    "#### Recommend 5 movies for 'Spider-Man 2'"
   ]
  },
  {
   "cell_type": "code",
   "execution_count": 125,
   "id": "9be96140-c4ed-41b7-a5b5-a41ba5f2d483",
   "metadata": {},
   "outputs": [
    {
     "name": "stdout",
     "output_type": "stream",
     "text": [
      "Spider-Man 3\n",
      "Spider-Man\n",
      "The Amazing Spider-Man 2\n",
      "The Amazing Spider-Man\n",
      "Batman Begins\n"
     ]
    }
   ],
   "source": [
    "# lets recommend 5 movies for the movie 'Spider-Man 2'\n",
    "recommender('Spider-Man 2')"
   ]
  },
  {
   "cell_type": "markdown",
   "id": "67f404a2-4dad-4abf-9a3c-6b03b0d7d625",
   "metadata": {},
   "source": [
    "#### Recommend 5 movies for 'Iron Man 3'"
   ]
  },
  {
   "cell_type": "code",
   "execution_count": 126,
   "id": "e6057ad0-73d9-419e-b309-dcbb0a94241c",
   "metadata": {},
   "outputs": [
    {
     "name": "stdout",
     "output_type": "stream",
     "text": [
      "Iron Man\n",
      "Iron Man 2\n",
      "Captain America: Civil War\n",
      "Avengers: Age of Ultron\n",
      "The Avengers\n"
     ]
    }
   ],
   "source": [
    "# lets recommend 5 movies for the movie 'Iron Man 3'\n",
    "recommender('Iron Man 3')"
   ]
  },
  {
   "cell_type": "markdown",
   "id": "cee1406d-27e6-4239-9a62-752b41feb2a1",
   "metadata": {},
   "source": [
    "#### Recommend 5 movies for 'Jurassic World'"
   ]
  },
  {
   "cell_type": "code",
   "execution_count": 127,
   "id": "b5341da3-6530-4981-82e5-42c694f6219c",
   "metadata": {},
   "outputs": [
    {
     "name": "stdout",
     "output_type": "stream",
     "text": [
      "Jurassic Park\n",
      "The Lost World: Jurassic Park\n",
      "Vacation\n",
      "Jurassic Park III\n",
      "South Park: Bigger, Longer & Uncut\n"
     ]
    }
   ],
   "source": [
    "# lets recommend 5 movies for the movie 'Jurassic World'\n",
    "recommender('Jurassic World')"
   ]
  },
  {
   "cell_type": "code",
   "execution_count": null,
   "id": "b699e49b-3195-42bc-8e0e-b4bfe9e4c439",
   "metadata": {},
   "outputs": [],
   "source": []
  }
 ],
 "metadata": {
  "kernelspec": {
   "display_name": "Python 3 (ipykernel)",
   "language": "python",
   "name": "python3"
  },
  "language_info": {
   "codemirror_mode": {
    "name": "ipython",
    "version": 3
   },
   "file_extension": ".py",
   "mimetype": "text/x-python",
   "name": "python",
   "nbconvert_exporter": "python",
   "pygments_lexer": "ipython3",
   "version": "3.11.7"
  }
 },
 "nbformat": 4,
 "nbformat_minor": 5
}
