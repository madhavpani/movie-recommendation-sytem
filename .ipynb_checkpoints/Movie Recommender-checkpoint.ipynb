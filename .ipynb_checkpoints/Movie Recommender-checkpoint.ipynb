{
 "cells": [
  {
   "cell_type": "markdown",
   "id": "e3e89aaa-b0f0-42f2-92f5-a97fa97a6333",
   "metadata": {},
   "source": [
    "# Movie Recommender"
   ]
  },
  {
   "cell_type": "markdown",
   "id": "97a275c3-a49a-4ed1-b59d-b16e09bf25e5",
   "metadata": {},
   "source": [
    "#### Import Libraries"
   ]
  },
  {
   "cell_type": "code",
   "execution_count": 69,
   "id": "25dabec8-bd0c-4863-997d-e378ca0f3bfc",
   "metadata": {},
   "outputs": [],
   "source": [
    "import numpy as np\n",
    "import pandas as pd\n",
    "import matplotlib.pyplot as plt\n",
    "import seaborn as sns"
   ]
  },
  {
   "cell_type": "markdown",
   "id": "4843284b-b251-4034-b367-a1fa85fa98c5",
   "metadata": {},
   "source": [
    "#### Import Dataset"
   ]
  },
  {
   "cell_type": "code",
   "execution_count": 70,
   "id": "117138c0-11a7-45f2-8cff-31a508fdcab1",
   "metadata": {},
   "outputs": [
    {
     "data": {
      "text/html": [
       "<div>\n",
       "<style scoped>\n",
       "    .dataframe tbody tr th:only-of-type {\n",
       "        vertical-align: middle;\n",
       "    }\n",
       "\n",
       "    .dataframe tbody tr th {\n",
       "        vertical-align: top;\n",
       "    }\n",
       "\n",
       "    .dataframe thead th {\n",
       "        text-align: right;\n",
       "    }\n",
       "</style>\n",
       "<table border=\"1\" class=\"dataframe\">\n",
       "  <thead>\n",
       "    <tr style=\"text-align: right;\">\n",
       "      <th></th>\n",
       "      <th>budget</th>\n",
       "      <th>genres</th>\n",
       "      <th>homepage</th>\n",
       "      <th>id</th>\n",
       "      <th>keywords</th>\n",
       "      <th>original_language</th>\n",
       "      <th>original_title</th>\n",
       "      <th>overview</th>\n",
       "      <th>popularity</th>\n",
       "      <th>production_companies</th>\n",
       "      <th>...</th>\n",
       "      <th>spoken_languages</th>\n",
       "      <th>status</th>\n",
       "      <th>tagline</th>\n",
       "      <th>title</th>\n",
       "      <th>vote_average</th>\n",
       "      <th>vote_count</th>\n",
       "      <th>movie_id</th>\n",
       "      <th>title</th>\n",
       "      <th>cast</th>\n",
       "      <th>crew</th>\n",
       "    </tr>\n",
       "  </thead>\n",
       "  <tbody>\n",
       "    <tr>\n",
       "      <th>0</th>\n",
       "      <td>237000000</td>\n",
       "      <td>[{\"id\": 28, \"name\": \"Action\"}, {\"id\": 12, \"nam...</td>\n",
       "      <td>http://www.avatarmovie.com/</td>\n",
       "      <td>19995</td>\n",
       "      <td>[{\"id\": 1463, \"name\": \"culture clash\"}, {\"id\":...</td>\n",
       "      <td>en</td>\n",
       "      <td>Avatar</td>\n",
       "      <td>In the 22nd century, a paraplegic Marine is di...</td>\n",
       "      <td>150.437577</td>\n",
       "      <td>[{\"name\": \"Ingenious Film Partners\", \"id\": 289...</td>\n",
       "      <td>...</td>\n",
       "      <td>[{\"iso_639_1\": \"en\", \"name\": \"English\"}, {\"iso...</td>\n",
       "      <td>Released</td>\n",
       "      <td>Enter the World of Pandora.</td>\n",
       "      <td>Avatar</td>\n",
       "      <td>7.2</td>\n",
       "      <td>11800</td>\n",
       "      <td>19995</td>\n",
       "      <td>Avatar</td>\n",
       "      <td>[{\"cast_id\": 242, \"character\": \"Jake Sully\", \"...</td>\n",
       "      <td>[{\"credit_id\": \"52fe48009251416c750aca23\", \"de...</td>\n",
       "    </tr>\n",
       "    <tr>\n",
       "      <th>1</th>\n",
       "      <td>300000000</td>\n",
       "      <td>[{\"id\": 12, \"name\": \"Adventure\"}, {\"id\": 14, \"...</td>\n",
       "      <td>http://disney.go.com/disneypictures/pirates/</td>\n",
       "      <td>285</td>\n",
       "      <td>[{\"id\": 270, \"name\": \"ocean\"}, {\"id\": 726, \"na...</td>\n",
       "      <td>en</td>\n",
       "      <td>Pirates of the Caribbean: At World's End</td>\n",
       "      <td>Captain Barbossa, long believed to be dead, ha...</td>\n",
       "      <td>139.082615</td>\n",
       "      <td>[{\"name\": \"Walt Disney Pictures\", \"id\": 2}, {\"...</td>\n",
       "      <td>...</td>\n",
       "      <td>[{\"iso_639_1\": \"en\", \"name\": \"English\"}]</td>\n",
       "      <td>Released</td>\n",
       "      <td>At the end of the world, the adventure begins.</td>\n",
       "      <td>Pirates of the Caribbean: At World's End</td>\n",
       "      <td>6.9</td>\n",
       "      <td>4500</td>\n",
       "      <td>285</td>\n",
       "      <td>Pirates of the Caribbean: At World's End</td>\n",
       "      <td>[{\"cast_id\": 4, \"character\": \"Captain Jack Spa...</td>\n",
       "      <td>[{\"credit_id\": \"52fe4232c3a36847f800b579\", \"de...</td>\n",
       "    </tr>\n",
       "  </tbody>\n",
       "</table>\n",
       "<p>2 rows × 24 columns</p>\n",
       "</div>"
      ],
      "text/plain": [
       "      budget                                             genres  \\\n",
       "0  237000000  [{\"id\": 28, \"name\": \"Action\"}, {\"id\": 12, \"nam...   \n",
       "1  300000000  [{\"id\": 12, \"name\": \"Adventure\"}, {\"id\": 14, \"...   \n",
       "\n",
       "                                       homepage     id  \\\n",
       "0                   http://www.avatarmovie.com/  19995   \n",
       "1  http://disney.go.com/disneypictures/pirates/    285   \n",
       "\n",
       "                                            keywords original_language  \\\n",
       "0  [{\"id\": 1463, \"name\": \"culture clash\"}, {\"id\":...                en   \n",
       "1  [{\"id\": 270, \"name\": \"ocean\"}, {\"id\": 726, \"na...                en   \n",
       "\n",
       "                             original_title  \\\n",
       "0                                    Avatar   \n",
       "1  Pirates of the Caribbean: At World's End   \n",
       "\n",
       "                                            overview  popularity  \\\n",
       "0  In the 22nd century, a paraplegic Marine is di...  150.437577   \n",
       "1  Captain Barbossa, long believed to be dead, ha...  139.082615   \n",
       "\n",
       "                                production_companies  ...  \\\n",
       "0  [{\"name\": \"Ingenious Film Partners\", \"id\": 289...  ...   \n",
       "1  [{\"name\": \"Walt Disney Pictures\", \"id\": 2}, {\"...  ...   \n",
       "\n",
       "                                    spoken_languages    status  \\\n",
       "0  [{\"iso_639_1\": \"en\", \"name\": \"English\"}, {\"iso...  Released   \n",
       "1           [{\"iso_639_1\": \"en\", \"name\": \"English\"}]  Released   \n",
       "\n",
       "                                          tagline  \\\n",
       "0                     Enter the World of Pandora.   \n",
       "1  At the end of the world, the adventure begins.   \n",
       "\n",
       "                                      title vote_average vote_count movie_id  \\\n",
       "0                                    Avatar          7.2      11800    19995   \n",
       "1  Pirates of the Caribbean: At World's End          6.9       4500      285   \n",
       "\n",
       "                                      title  \\\n",
       "0                                    Avatar   \n",
       "1  Pirates of the Caribbean: At World's End   \n",
       "\n",
       "                                                cast  \\\n",
       "0  [{\"cast_id\": 242, \"character\": \"Jake Sully\", \"...   \n",
       "1  [{\"cast_id\": 4, \"character\": \"Captain Jack Spa...   \n",
       "\n",
       "                                                crew  \n",
       "0  [{\"credit_id\": \"52fe48009251416c750aca23\", \"de...  \n",
       "1  [{\"credit_id\": \"52fe4232c3a36847f800b579\", \"de...  \n",
       "\n",
       "[2 rows x 24 columns]"
      ]
     },
     "execution_count": 70,
     "metadata": {},
     "output_type": "execute_result"
    }
   ],
   "source": [
    "# lets read the dataset\n",
    "movies = pd.read_csv('tmdb_5000_movies.csv')\n",
    "credits = pd.read_csv('tmdb_5000_credits.csv')\n",
    "\n",
    "movies_df = pd.concat([movies, credits], axis= 1)\n",
    "movies_df.head(2)"
   ]
  },
  {
   "cell_type": "markdown",
   "id": "d1999395-6040-412a-9c31-7823bf33b422",
   "metadata": {},
   "source": [
    "## Data Cleaning"
   ]
  },
  {
   "cell_type": "markdown",
   "id": "93676b9b-1550-4df5-b7e6-2dcca3d10638",
   "metadata": {},
   "source": [
    "#### 1. Duplicates Removal"
   ]
  },
  {
   "cell_type": "code",
   "execution_count": 71,
   "id": "7d7f5946-7ce6-4bae-81e7-0a1dbed8310d",
   "metadata": {},
   "outputs": [
    {
     "data": {
      "text/plain": [
       "0"
      ]
     },
     "execution_count": 71,
     "metadata": {},
     "output_type": "execute_result"
    }
   ],
   "source": [
    "movies_df.duplicated().sum()"
   ]
  },
  {
   "cell_type": "markdown",
   "id": "e7aef9c3-45ff-431c-ad15-2c0f7f15beb6",
   "metadata": {},
   "source": [
    "#### 2. Drop Unwanted Columns"
   ]
  },
  {
   "cell_type": "code",
   "execution_count": 72,
   "id": "a3c7405f-442e-4fb7-9cac-26a0a07384c1",
   "metadata": {},
   "outputs": [],
   "source": [
    "# lets filter out the only the required columns from the movies dataset\n",
    "movies_df = movies_df[['genres', 'keywords', 'overview', 'original_title', 'cast', 'crew']]"
   ]
  },
  {
   "cell_type": "code",
   "execution_count": 73,
   "id": "27d6053e-3c15-4e42-a157-1f8f96e2a1d6",
   "metadata": {},
   "outputs": [
    {
     "name": "stdout",
     "output_type": "stream",
     "text": [
      "<class 'pandas.core.frame.DataFrame'>\n",
      "RangeIndex: 4803 entries, 0 to 4802\n",
      "Data columns (total 6 columns):\n",
      " #   Column          Non-Null Count  Dtype \n",
      "---  ------          --------------  ----- \n",
      " 0   genres          4803 non-null   object\n",
      " 1   keywords        4803 non-null   object\n",
      " 2   overview        4800 non-null   object\n",
      " 3   original_title  4803 non-null   object\n",
      " 4   cast            4803 non-null   object\n",
      " 5   crew            4803 non-null   object\n",
      "dtypes: object(6)\n",
      "memory usage: 225.3+ KB\n"
     ]
    }
   ],
   "source": [
    "# lets check the columns \n",
    "movies_df.info()"
   ]
  },
  {
   "cell_type": "markdown",
   "id": "b558a167-2ab9-4efd-8e8a-8492bc022a32",
   "metadata": {},
   "source": [
    "#### 3. Drop Null values"
   ]
  },
  {
   "cell_type": "code",
   "execution_count": 82,
   "id": "51cefaa7-6721-4790-b575-d0a2ef1a76cd",
   "metadata": {},
   "outputs": [],
   "source": [
    "movies_df.dropna(inplace=True)"
   ]
  },
  {
   "cell_type": "code",
   "execution_count": 83,
   "id": "d5932aac-6e24-4c91-bd28-a754999d08e3",
   "metadata": {},
   "outputs": [
    {
     "data": {
      "text/plain": [
       "genres            0\n",
       "keywords          0\n",
       "overview          0\n",
       "original_title    0\n",
       "cast              0\n",
       "crew              0\n",
       "dtype: int64"
      ]
     },
     "execution_count": 83,
     "metadata": {},
     "output_type": "execute_result"
    }
   ],
   "source": [
    "movies_df.isna().sum()"
   ]
  },
  {
   "cell_type": "code",
   "execution_count": 84,
   "id": "ba6e12ac-b625-4ea4-84ce-5d17efcfb1f1",
   "metadata": {},
   "outputs": [
    {
     "data": {
      "text/html": [
       "<div>\n",
       "<style scoped>\n",
       "    .dataframe tbody tr th:only-of-type {\n",
       "        vertical-align: middle;\n",
       "    }\n",
       "\n",
       "    .dataframe tbody tr th {\n",
       "        vertical-align: top;\n",
       "    }\n",
       "\n",
       "    .dataframe thead th {\n",
       "        text-align: right;\n",
       "    }\n",
       "</style>\n",
       "<table border=\"1\" class=\"dataframe\">\n",
       "  <thead>\n",
       "    <tr style=\"text-align: right;\">\n",
       "      <th></th>\n",
       "      <th>genres</th>\n",
       "      <th>keywords</th>\n",
       "      <th>overview</th>\n",
       "      <th>original_title</th>\n",
       "      <th>cast</th>\n",
       "      <th>crew</th>\n",
       "    </tr>\n",
       "  </thead>\n",
       "  <tbody>\n",
       "    <tr>\n",
       "      <th>0</th>\n",
       "      <td>[{\"id\": 28, \"name\": \"Action\"}, {\"id\": 12, \"nam...</td>\n",
       "      <td>[{\"id\": 1463, \"name\": \"culture clash\"}, {\"id\":...</td>\n",
       "      <td>In the 22nd century, a paraplegic Marine is di...</td>\n",
       "      <td>Avatar</td>\n",
       "      <td>[{\"cast_id\": 242, \"character\": \"Jake Sully\", \"...</td>\n",
       "      <td>[{\"credit_id\": \"52fe48009251416c750aca23\", \"de...</td>\n",
       "    </tr>\n",
       "    <tr>\n",
       "      <th>1</th>\n",
       "      <td>[{\"id\": 12, \"name\": \"Adventure\"}, {\"id\": 14, \"...</td>\n",
       "      <td>[{\"id\": 270, \"name\": \"ocean\"}, {\"id\": 726, \"na...</td>\n",
       "      <td>Captain Barbossa, long believed to be dead, ha...</td>\n",
       "      <td>Pirates of the Caribbean: At World's End</td>\n",
       "      <td>[{\"cast_id\": 4, \"character\": \"Captain Jack Spa...</td>\n",
       "      <td>[{\"credit_id\": \"52fe4232c3a36847f800b579\", \"de...</td>\n",
       "    </tr>\n",
       "  </tbody>\n",
       "</table>\n",
       "</div>"
      ],
      "text/plain": [
       "                                              genres  \\\n",
       "0  [{\"id\": 28, \"name\": \"Action\"}, {\"id\": 12, \"nam...   \n",
       "1  [{\"id\": 12, \"name\": \"Adventure\"}, {\"id\": 14, \"...   \n",
       "\n",
       "                                            keywords  \\\n",
       "0  [{\"id\": 1463, \"name\": \"culture clash\"}, {\"id\":...   \n",
       "1  [{\"id\": 270, \"name\": \"ocean\"}, {\"id\": 726, \"na...   \n",
       "\n",
       "                                            overview  \\\n",
       "0  In the 22nd century, a paraplegic Marine is di...   \n",
       "1  Captain Barbossa, long believed to be dead, ha...   \n",
       "\n",
       "                             original_title  \\\n",
       "0                                    Avatar   \n",
       "1  Pirates of the Caribbean: At World's End   \n",
       "\n",
       "                                                cast  \\\n",
       "0  [{\"cast_id\": 242, \"character\": \"Jake Sully\", \"...   \n",
       "1  [{\"cast_id\": 4, \"character\": \"Captain Jack Spa...   \n",
       "\n",
       "                                                crew  \n",
       "0  [{\"credit_id\": \"52fe48009251416c750aca23\", \"de...  \n",
       "1  [{\"credit_id\": \"52fe4232c3a36847f800b579\", \"de...  "
      ]
     },
     "execution_count": 84,
     "metadata": {},
     "output_type": "execute_result"
    }
   ],
   "source": [
    "movies_df.head(2)"
   ]
  },
  {
   "cell_type": "code",
   "execution_count": 75,
   "id": "09d64723-0f14-4ea1-8d4e-598fe7723075",
   "metadata": {},
   "outputs": [],
   "source": [
    "# so we need genres name for our recommendation system\n",
    "# for example ['Action', 'Adventure', 'Fantasy', 'Science Fiction']\n",
    "# lets define a function which removes the names from the dictionary and appends in a list\n",
    "\n",
    "# the genres are string, therefor we need to convert it to list before collecting the names\n",
    "import ast\n",
    "\n",
    "# ast.literal_eval(obj) : This method converts the string to list.\n",
    "\n",
    "def names_collector(obj):\n",
    "    names = []\n",
    "    for i in ast.literal_eval(obj):\n",
    "        names.append(i['name'])\n",
    "    return names"
   ]
  },
  {
   "cell_type": "code",
   "execution_count": 76,
   "id": "e0043246-181a-41e3-9936-1115be9e5b8c",
   "metadata": {},
   "outputs": [],
   "source": [
    "# collect and store all the names in genres and store in genres of dataframe\n",
    "movies['genres'] = movies['genres'].apply(names_collector)"
   ]
  },
  {
   "cell_type": "code",
   "execution_count": 77,
   "id": "5fd3ec14-aa99-4bfd-b129-452d0e49a058",
   "metadata": {},
   "outputs": [
    {
     "data": {
      "text/plain": [
       "'[{\"id\": 1463, \"name\": \"culture clash\"}, {\"id\": 2964, \"name\": \"future\"}, {\"id\": 3386, \"name\": \"space war\"}, {\"id\": 3388, \"name\": \"space colony\"}, {\"id\": 3679, \"name\": \"society\"}, {\"id\": 3801, \"name\": \"space travel\"}, {\"id\": 9685, \"name\": \"futuristic\"}, {\"id\": 9840, \"name\": \"romance\"}, {\"id\": 9882, \"name\": \"space\"}, {\"id\": 9951, \"name\": \"alien\"}, {\"id\": 10148, \"name\": \"tribe\"}, {\"id\": 10158, \"name\": \"alien planet\"}, {\"id\": 10987, \"name\": \"cgi\"}, {\"id\": 11399, \"name\": \"marine\"}, {\"id\": 13065, \"name\": \"soldier\"}, {\"id\": 14643, \"name\": \"battle\"}, {\"id\": 14720, \"name\": \"love affair\"}, {\"id\": 165431, \"name\": \"anti war\"}, {\"id\": 193554, \"name\": \"power relations\"}, {\"id\": 206690, \"name\": \"mind and soul\"}, {\"id\": 209714, \"name\": \"3d\"}]'"
      ]
     },
     "execution_count": 77,
     "metadata": {},
     "output_type": "execute_result"
    }
   ],
   "source": [
    "# lets check the keywords columns first row\n",
    "movies['keywords'][0]"
   ]
  },
  {
   "cell_type": "code",
   "execution_count": 78,
   "id": "a5e66c5b-72a7-4395-ac61-f76507e9e7c8",
   "metadata": {},
   "outputs": [],
   "source": [
    "# we have to apply the same function to collect the names and store in keywords of movies dataframe\n",
    "movies['keywords'] = movies['keywords'].apply(names_collector)"
   ]
  },
  {
   "cell_type": "code",
   "execution_count": 79,
   "id": "96dda3d7-32c2-476a-96e9-48fc314a9870",
   "metadata": {},
   "outputs": [
    {
     "data": {
      "text/plain": [
       "'In the 22nd century, a paraplegic Marine is dispatched to the moon Pandora on a unique mission, but becomes torn between following orders and protecting an alien civilization.'"
      ]
     },
     "execution_count": 79,
     "metadata": {},
     "output_type": "execute_result"
    }
   ],
   "source": [
    "# lets check the first value of overview column\n",
    "movies['overview'][0]\n",
    "\n",
    "# the overview column is fine."
   ]
  },
  {
   "cell_type": "code",
   "execution_count": 80,
   "id": "26c215fa-316c-483e-9811-4962714ace51",
   "metadata": {},
   "outputs": [
    {
     "ename": "KeyError",
     "evalue": "'cast'",
     "output_type": "error",
     "traceback": [
      "\u001b[1;31m---------------------------------------------------------------------------\u001b[0m",
      "\u001b[1;31mKeyError\u001b[0m                                  Traceback (most recent call last)",
      "File \u001b[1;32m~\\anaconda3\\Lib\\site-packages\\pandas\\core\\indexes\\base.py:3791\u001b[0m, in \u001b[0;36mIndex.get_loc\u001b[1;34m(self, key)\u001b[0m\n\u001b[0;32m   3790\u001b[0m \u001b[38;5;28;01mtry\u001b[39;00m:\n\u001b[1;32m-> 3791\u001b[0m     \u001b[38;5;28;01mreturn\u001b[39;00m \u001b[38;5;28mself\u001b[39m\u001b[38;5;241m.\u001b[39m_engine\u001b[38;5;241m.\u001b[39mget_loc(casted_key)\n\u001b[0;32m   3792\u001b[0m \u001b[38;5;28;01mexcept\u001b[39;00m \u001b[38;5;167;01mKeyError\u001b[39;00m \u001b[38;5;28;01mas\u001b[39;00m err:\n",
      "File \u001b[1;32mindex.pyx:152\u001b[0m, in \u001b[0;36mpandas._libs.index.IndexEngine.get_loc\u001b[1;34m()\u001b[0m\n",
      "File \u001b[1;32mindex.pyx:181\u001b[0m, in \u001b[0;36mpandas._libs.index.IndexEngine.get_loc\u001b[1;34m()\u001b[0m\n",
      "File \u001b[1;32mpandas\\_libs\\hashtable_class_helper.pxi:7080\u001b[0m, in \u001b[0;36mpandas._libs.hashtable.PyObjectHashTable.get_item\u001b[1;34m()\u001b[0m\n",
      "File \u001b[1;32mpandas\\_libs\\hashtable_class_helper.pxi:7088\u001b[0m, in \u001b[0;36mpandas._libs.hashtable.PyObjectHashTable.get_item\u001b[1;34m()\u001b[0m\n",
      "\u001b[1;31mKeyError\u001b[0m: 'cast'",
      "\nThe above exception was the direct cause of the following exception:\n",
      "\u001b[1;31mKeyError\u001b[0m                                  Traceback (most recent call last)",
      "Cell \u001b[1;32mIn[80], line 2\u001b[0m\n\u001b[0;32m      1\u001b[0m \u001b[38;5;66;03m# lets check the first value of cast column\u001b[39;00m\n\u001b[1;32m----> 2\u001b[0m movies[\u001b[38;5;124m'\u001b[39m\u001b[38;5;124mcast\u001b[39m\u001b[38;5;124m'\u001b[39m][\u001b[38;5;241m0\u001b[39m]\n",
      "File \u001b[1;32m~\\anaconda3\\Lib\\site-packages\\pandas\\core\\frame.py:3893\u001b[0m, in \u001b[0;36mDataFrame.__getitem__\u001b[1;34m(self, key)\u001b[0m\n\u001b[0;32m   3891\u001b[0m \u001b[38;5;28;01mif\u001b[39;00m \u001b[38;5;28mself\u001b[39m\u001b[38;5;241m.\u001b[39mcolumns\u001b[38;5;241m.\u001b[39mnlevels \u001b[38;5;241m>\u001b[39m \u001b[38;5;241m1\u001b[39m:\n\u001b[0;32m   3892\u001b[0m     \u001b[38;5;28;01mreturn\u001b[39;00m \u001b[38;5;28mself\u001b[39m\u001b[38;5;241m.\u001b[39m_getitem_multilevel(key)\n\u001b[1;32m-> 3893\u001b[0m indexer \u001b[38;5;241m=\u001b[39m \u001b[38;5;28mself\u001b[39m\u001b[38;5;241m.\u001b[39mcolumns\u001b[38;5;241m.\u001b[39mget_loc(key)\n\u001b[0;32m   3894\u001b[0m \u001b[38;5;28;01mif\u001b[39;00m is_integer(indexer):\n\u001b[0;32m   3895\u001b[0m     indexer \u001b[38;5;241m=\u001b[39m [indexer]\n",
      "File \u001b[1;32m~\\anaconda3\\Lib\\site-packages\\pandas\\core\\indexes\\base.py:3798\u001b[0m, in \u001b[0;36mIndex.get_loc\u001b[1;34m(self, key)\u001b[0m\n\u001b[0;32m   3793\u001b[0m     \u001b[38;5;28;01mif\u001b[39;00m \u001b[38;5;28misinstance\u001b[39m(casted_key, \u001b[38;5;28mslice\u001b[39m) \u001b[38;5;129;01mor\u001b[39;00m (\n\u001b[0;32m   3794\u001b[0m         \u001b[38;5;28misinstance\u001b[39m(casted_key, abc\u001b[38;5;241m.\u001b[39mIterable)\n\u001b[0;32m   3795\u001b[0m         \u001b[38;5;129;01mand\u001b[39;00m \u001b[38;5;28many\u001b[39m(\u001b[38;5;28misinstance\u001b[39m(x, \u001b[38;5;28mslice\u001b[39m) \u001b[38;5;28;01mfor\u001b[39;00m x \u001b[38;5;129;01min\u001b[39;00m casted_key)\n\u001b[0;32m   3796\u001b[0m     ):\n\u001b[0;32m   3797\u001b[0m         \u001b[38;5;28;01mraise\u001b[39;00m InvalidIndexError(key)\n\u001b[1;32m-> 3798\u001b[0m     \u001b[38;5;28;01mraise\u001b[39;00m \u001b[38;5;167;01mKeyError\u001b[39;00m(key) \u001b[38;5;28;01mfrom\u001b[39;00m \u001b[38;5;21;01merr\u001b[39;00m\n\u001b[0;32m   3799\u001b[0m \u001b[38;5;28;01mexcept\u001b[39;00m \u001b[38;5;167;01mTypeError\u001b[39;00m:\n\u001b[0;32m   3800\u001b[0m     \u001b[38;5;66;03m# If we have a listlike key, _check_indexing_error will raise\u001b[39;00m\n\u001b[0;32m   3801\u001b[0m     \u001b[38;5;66;03m#  InvalidIndexError. Otherwise we fall through and re-raise\u001b[39;00m\n\u001b[0;32m   3802\u001b[0m     \u001b[38;5;66;03m#  the TypeError.\u001b[39;00m\n\u001b[0;32m   3803\u001b[0m     \u001b[38;5;28mself\u001b[39m\u001b[38;5;241m.\u001b[39m_check_indexing_error(key)\n",
      "\u001b[1;31mKeyError\u001b[0m: 'cast'"
     ]
    }
   ],
   "source": [
    "# lets check the first value of cast column\n",
    "movies['cast'][0]\n",
    "\n",
    "# there are many cast in a movie, therefor lets use only first 5 cast for our recommendation system"
   ]
  },
  {
   "cell_type": "code",
   "execution_count": null,
   "id": "1e6a8653-83d1-4693-8177-983c6cfd3b11",
   "metadata": {},
   "outputs": [],
   "source": [
    "# lets take out only 5 cast for each row\n",
    "def names_collector2(obj):\n",
    "    names = []\n",
    "    counter = 0\n",
    "    for i in ast.literal_eval(obj):\n",
    "        if counter != 5:\n",
    "            names.append(i['name'])\n",
    "            counter += 1\n",
    "        else:\n",
    "            break\n",
    "    return names\n",
    "\n",
    "movies['cast'] = movies['cast'].apply(names_collector2)"
   ]
  },
  {
   "cell_type": "code",
   "execution_count": null,
   "id": "6f065215-ca9f-4427-b3ef-7f5102f1d85a",
   "metadata": {},
   "outputs": [],
   "source": [
    "# now lets check crew data\n",
    "movies['crew'][0]"
   ]
  },
  {
   "cell_type": "code",
   "execution_count": null,
   "id": "ba2c8d2e-82b6-41b3-9035-cd2ed132940d",
   "metadata": {},
   "outputs": [],
   "source": [
    "# lets take out only director for each row in crew column\n",
    "def fetch_director(obj):\n",
    "    names = []\n",
    "    for i in ast.literal_eval(obj):\n",
    "        if i['job'] == 'Director':\n",
    "            names.append(i['name'])\n",
    "            break\n",
    "    return names"
   ]
  },
  {
   "cell_type": "code",
   "execution_count": null,
   "id": "fad28f9e-934a-4534-a76b-66d2163759b6",
   "metadata": {},
   "outputs": [],
   "source": [
    "# lets apply the fetch director function to take out all the directors in crew\n",
    "movies['crew'] = movies['crew'].apply(fetch_director)"
   ]
  },
  {
   "cell_type": "code",
   "execution_count": null,
   "id": "12979b49-c897-4484-b7c3-76190588a7f6",
   "metadata": {},
   "outputs": [],
   "source": [
    "# now let see the first 5 rows of the dataframe\n",
    "movies.head()"
   ]
  },
  {
   "cell_type": "code",
   "execution_count": null,
   "id": "364da127-9142-43e3-9513-c7d3b765c5d9",
   "metadata": {},
   "outputs": [],
   "source": [
    "# lets add a new column which contains the tags for a movie in tags column of the dataframe\n",
    "movies['tags'] = movies['genres'] + movies['keywords'] + movies['overview'].apply(lambda x: x.split()) + movies['cast'] + movies['crew']"
   ]
  },
  {
   "cell_type": "code",
   "execution_count": null,
   "id": "dd7d0171-41b7-4ad9-9afc-b3bc5e7d2e43",
   "metadata": {},
   "outputs": [],
   "source": [
    "# now lets check the dataframe\n",
    "movies.head()"
   ]
  },
  {
   "cell_type": "code",
   "execution_count": null,
   "id": "5912aa35-ae5e-4ce3-865a-dccdf328c167",
   "metadata": {},
   "outputs": [],
   "source": [
    "# now lets drop unnecessary columns from the dataframe\n",
    "movies = movies[movies.columns[[3,4,-1]]]"
   ]
  },
  {
   "cell_type": "code",
   "execution_count": null,
   "id": "f4119406-d489-460c-8e40-8532f83cac75",
   "metadata": {},
   "outputs": [],
   "source": [
    "# now lets check the dataframek\n",
    "movies.head()"
   ]
  },
  {
   "cell_type": "code",
   "execution_count": null,
   "id": "d70d067b-1122-407c-86bf-715c5a7b72e0",
   "metadata": {},
   "outputs": [],
   "source": [
    "# remove spaces from the spaced words in tags\n",
    "movies['tags'] = movies['tags'].apply(lambda x: [i.replace(' ', '').lower() for i in x])"
   ]
  },
  {
   "cell_type": "code",
   "execution_count": null,
   "id": "ed53cd8b-866c-474f-b63c-aeb648758686",
   "metadata": {},
   "outputs": [],
   "source": [
    "# change the list to string in tags column of the dataframe\n",
    "movies['tags'] = movies['tags'].apply(lambda x: ' '.join(x))\n",
    "# now lets check the dataframe\n",
    "movies.head()"
   ]
  },
  {
   "cell_type": "code",
   "execution_count": null,
   "id": "c1fd6bdb-64e0-43e1-9a42-c7ae571ef2be",
   "metadata": {},
   "outputs": [],
   "source": [
    "# now lets use stemming for removing\n",
    "import nltk\n",
    "\n",
    "from nltk.stem.porter import PorterStemmer\n",
    "ps = PorterStemmer()"
   ]
  },
  {
   "cell_type": "code",
   "execution_count": null,
   "id": "69bef17f-2a4b-49ca-8189-fa0ee0aaddd8",
   "metadata": {},
   "outputs": [],
   "source": [
    "# lets define a function which carries out stemming\n",
    "def stem(text):\n",
    "    y = []\n",
    "\n",
    "    for i in text.split():\n",
    "        y.append(ps.stem(i))\n",
    "\n",
    "    return ' '.join(y)"
   ]
  },
  {
   "cell_type": "code",
   "execution_count": null,
   "id": "8cc5acb7-938e-466d-9f64-8a8b202fd326",
   "metadata": {},
   "outputs": [],
   "source": [
    "movies['tags'] = movies['tags'].apply(stem)"
   ]
  },
  {
   "cell_type": "code",
   "execution_count": null,
   "id": "f62469ff-7091-4e6e-963d-129b094c0b86",
   "metadata": {},
   "outputs": [],
   "source": [
    "movies['tags'][0]"
   ]
  },
  {
   "cell_type": "code",
   "execution_count": null,
   "id": "fd889970-a221-4dd2-8a29-5746f96b3e1b",
   "metadata": {},
   "outputs": [],
   "source": [
    "# lets vectorize the tags column\n",
    "from sklearn.feature_extraction.text import CountVectorizer\n",
    "cv = CountVectorizer(max_features=5000, stop_words='english')\n",
    "vectors = cv.fit_transform(movies['tags']).toarray()\n",
    "vectors"
   ]
  },
  {
   "cell_type": "code",
   "execution_count": null,
   "id": "7afaa08a-11c1-4e89-a777-4e4a04f8da5c",
   "metadata": {},
   "outputs": [],
   "source": [
    "# lets see the features in vectors\n",
    "cv.get_feature_names_out()"
   ]
  },
  {
   "cell_type": "code",
   "execution_count": null,
   "id": "3c0daf2c-fcb5-4226-9637-dad218d7aa65",
   "metadata": {},
   "outputs": [],
   "source": [
    "# lets find out the cosine similarity between the vectorized tags of each movies\n",
    "from sklearn.metrics.pairwise import cosine_similarity\n",
    "similarity = cosine_similarity(vectors)\n",
    "sorted(list(enumerate(similarity[0])), reverse=True, key= lambda x: x[1])[1:6]"
   ]
  },
  {
   "cell_type": "code",
   "execution_count": null,
   "id": "19522a17-73f5-4d6e-88aa-ac2644674987",
   "metadata": {},
   "outputs": [],
   "source": [
    "# lets build a method which recommends 5 movies based on the similarity\n",
    "def recommender(movie):\n",
    "    index = movies[movies['title'] == movie].index[0]\n",
    "    movies_recommended = sorted(list(enumerate(similarity[index])), reverse = True, key = lambda x: x[1])[1:6]\n",
    "    for i, j in movies_recommended:\n",
    "        print(movies.loc[i]['title'])"
   ]
  },
  {
   "cell_type": "code",
   "execution_count": null,
   "id": "d4fd5a3d-cd60-4b00-871e-c49c84a83956",
   "metadata": {},
   "outputs": [],
   "source": [
    "# lets see the recommendation for 17th movie\n",
    "recommender(movies['title'][16])"
   ]
  },
  {
   "cell_type": "code",
   "execution_count": null,
   "id": "3eac4d4e-2a30-463f-9ac7-a5aec6a01775",
   "metadata": {},
   "outputs": [],
   "source": [
    "# lets see some 100 titles of movies\n",
    "movies['title'].values[:100]"
   ]
  },
  {
   "cell_type": "code",
   "execution_count": null,
   "id": "e48bacb5-f5bb-45d9-8150-12029d809a1c",
   "metadata": {},
   "outputs": [],
   "source": [
    "# lets recommend 5 movies for the movie King Kong\n",
    "recommender('King Kong')"
   ]
  },
  {
   "cell_type": "code",
   "execution_count": null,
   "id": "3de945ab-4870-432a-86c6-7cdf9b7ac138",
   "metadata": {},
   "outputs": [],
   "source": [
    "# lets recommend 5 movies for the movie Titanic\n",
    "recommender('Titanic')"
   ]
  },
  {
   "cell_type": "code",
   "execution_count": null,
   "id": "9be96140-c4ed-41b7-a5b5-a41ba5f2d483",
   "metadata": {},
   "outputs": [],
   "source": [
    "# lets recommend 5 movies for the movie 'Spider-Man 2'\n",
    "recommender('Spider-Man 2')"
   ]
  },
  {
   "cell_type": "code",
   "execution_count": null,
   "id": "e6057ad0-73d9-419e-b309-dcbb0a94241c",
   "metadata": {},
   "outputs": [],
   "source": [
    "# lets recommend 5 movies for the movie 'Iron Man 3'\n",
    "recommender('Iron Man 3')"
   ]
  },
  {
   "cell_type": "code",
   "execution_count": null,
   "id": "b5341da3-6530-4981-82e5-42c694f6219c",
   "metadata": {},
   "outputs": [],
   "source": [
    "# lets recommend 5 movies for the movie 'Jurassic World'\n",
    "recommender('Jurassic World')"
   ]
  },
  {
   "cell_type": "code",
   "execution_count": null,
   "id": "a5b13e58-7034-4396-b763-9e6c3648fa35",
   "metadata": {},
   "outputs": [],
   "source": []
  }
 ],
 "metadata": {
  "kernelspec": {
   "display_name": "Python 3 (ipykernel)",
   "language": "python",
   "name": "python3"
  },
  "language_info": {
   "codemirror_mode": {
    "name": "ipython",
    "version": 3
   },
   "file_extension": ".py",
   "mimetype": "text/x-python",
   "name": "python",
   "nbconvert_exporter": "python",
   "pygments_lexer": "ipython3",
   "version": "3.11.7"
  }
 },
 "nbformat": 4,
 "nbformat_minor": 5
}
